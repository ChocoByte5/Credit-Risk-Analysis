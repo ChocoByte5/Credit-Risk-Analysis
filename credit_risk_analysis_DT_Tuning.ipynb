{
  "nbformat": 4,
  "nbformat_minor": 0,
  "metadata": {
    "colab": {
      "provenance": []
    },
    "kernelspec": {
      "name": "python3",
      "display_name": "Python 3"
    },
    "language_info": {
      "name": "python"
    }
  },
  "cells": [
    {
      "cell_type": "code",
      "source": [
        "# Import bibliotek\n",
        "import pandas as pd\n",
        "import numpy as np\n",
        "import seaborn as sns\n",
        "import matplotlib.pyplot as plt\n",
        "from collections import Counter\n",
        "from sklearn.model_selection import train_test_split\n",
        "from sklearn.tree import DecisionTreeClassifier, plot_tree\n",
        "from sklearn.metrics import accuracy_score, precision_score, recall_score, f1_score, confusion_matrix\n",
        "from imblearn.over_sampling import SMOTE\n",
        "from sklearn.tree import DecisionTreeClassifier\n",
        "from sklearn.model_selection import GridSearchCV"
      ],
      "metadata": {
        "id": "y0mphk9IiPuq"
      },
      "execution_count": 1,
      "outputs": []
    },
    {
      "cell_type": "code",
      "source": [
        "# Pobranie danych\n",
        "import kagglehub\n",
        "\n",
        "path = kagglehub.dataset_download(\"taweilo/loan-approval-classification-data\")\n",
        "\n",
        "print(\"Path to dataset files:\", path)\n",
        "\n",
        "df = pd.read_csv(path + \"/loan_data.csv\")\n",
        "print(df.head())  # Podgląd pierwszych 5 wierszy"
      ],
      "metadata": {
        "colab": {
          "base_uri": "https://localhost:8080/"
        },
        "id": "Tpp3ZfI0jwKD",
        "outputId": "de331d0d-c139-4465-af68-9832a5707d93"
      },
      "execution_count": 2,
      "outputs": [
        {
          "output_type": "stream",
          "name": "stdout",
          "text": [
            "Path to dataset files: /root/.cache/kagglehub/datasets/taweilo/loan-approval-classification-data/versions/1\n",
            "   person_age person_gender person_education  person_income  person_emp_exp  \\\n",
            "0        22.0        female           Master        71948.0               0   \n",
            "1        21.0        female      High School        12282.0               0   \n",
            "2        25.0        female      High School        12438.0               3   \n",
            "3        23.0        female         Bachelor        79753.0               0   \n",
            "4        24.0          male           Master        66135.0               1   \n",
            "\n",
            "  person_home_ownership  loan_amnt loan_intent  loan_int_rate  \\\n",
            "0                  RENT    35000.0    PERSONAL          16.02   \n",
            "1                   OWN     1000.0   EDUCATION          11.14   \n",
            "2              MORTGAGE     5500.0     MEDICAL          12.87   \n",
            "3                  RENT    35000.0     MEDICAL          15.23   \n",
            "4                  RENT    35000.0     MEDICAL          14.27   \n",
            "\n",
            "   loan_percent_income  cb_person_cred_hist_length  credit_score  \\\n",
            "0                 0.49                         3.0           561   \n",
            "1                 0.08                         2.0           504   \n",
            "2                 0.44                         3.0           635   \n",
            "3                 0.44                         2.0           675   \n",
            "4                 0.53                         4.0           586   \n",
            "\n",
            "  previous_loan_defaults_on_file  loan_status  \n",
            "0                             No            1  \n",
            "1                            Yes            0  \n",
            "2                             No            1  \n",
            "3                             No            1  \n",
            "4                             No            1  \n"
          ]
        }
      ]
    },
    {
      "cell_type": "code",
      "source": [
        "print(df.columns)"
      ],
      "metadata": {
        "colab": {
          "base_uri": "https://localhost:8080/"
        },
        "id": "UnM-fTW42Egc",
        "outputId": "af594abc-933c-4951-f2e9-d8d2ece772c2"
      },
      "execution_count": 3,
      "outputs": [
        {
          "output_type": "stream",
          "name": "stdout",
          "text": [
            "Index(['person_age', 'person_gender', 'person_education', 'person_income',\n",
            "       'person_emp_exp', 'person_home_ownership', 'loan_amnt', 'loan_intent',\n",
            "       'loan_int_rate', 'loan_percent_income', 'cb_person_cred_hist_length',\n",
            "       'credit_score', 'previous_loan_defaults_on_file', 'loan_status'],\n",
            "      dtype='object')\n"
          ]
        }
      ]
    },
    {
      "cell_type": "code",
      "source": [
        "df.drop(columns=[\"person_gender\",\"person_emp_exp\",\"loan_intent\"], inplace=True, errors=\"ignore\")"
      ],
      "metadata": {
        "id": "Z87jQnS03pJF"
      },
      "execution_count": 4,
      "outputs": []
    },
    {
      "cell_type": "code",
      "source": [
        "df[\"previous_loan_defaults_on_file\"] = df[\"previous_loan_defaults_on_file\"].astype(str).str.strip()\n",
        "\n",
        "# Mapowanie\n",
        "df[\"previous_loan_defaults_on_file\"] = df[\"previous_loan_defaults_on_file\"].map({\"No\": 0, \"Yes\": 1})\n",
        "# Uzupełnienie brakujących wartości NaN zerami i konwersja na int\n",
        "df[\"previous_loan_defaults_on_file\"] = df[\"previous_loan_defaults_on_file\"].fillna(0).astype(int)\n",
        "\n",
        "# Sprawdzenie czy konwersja się udała\n",
        "print(df[\"previous_loan_defaults_on_file\"].unique())  # Powinno pokazać tylko [0, 1]\n",
        "print(df[\"previous_loan_defaults_on_file\"].dtype)  # Powinno być int64"
      ],
      "metadata": {
        "colab": {
          "base_uri": "https://localhost:8080/"
        },
        "id": "3OPA2BCndY_v",
        "outputId": "5c6a6543-085a-48a6-a57f-3992212b3e41"
      },
      "execution_count": 5,
      "outputs": [
        {
          "output_type": "stream",
          "name": "stdout",
          "text": [
            "[0 1]\n",
            "int64\n"
          ]
        }
      ]
    },
    {
      "cell_type": "code",
      "source": [
        "print(df[\"previous_loan_defaults_on_file\"].unique())"
      ],
      "metadata": {
        "colab": {
          "base_uri": "https://localhost:8080/"
        },
        "id": "qg3IYhKlhXbZ",
        "outputId": "aeaf0e7a-98b0-4a5d-9660-92f34a7a6f91"
      },
      "execution_count": 6,
      "outputs": [
        {
          "output_type": "stream",
          "name": "stdout",
          "text": [
            "[0 1]\n"
          ]
        }
      ]
    },
    {
      "cell_type": "code",
      "source": [
        "df[\"person_home_ownership\"] = df[\"person_home_ownership\"].map({\n",
        "    \"RENT\": 0,        # Najmniejsza stabilność finansowa\n",
        "    \"MORTGAGE\": 1,    # Kredyt hipoteczny, ale zadłużenie\n",
        "    \"OWN\": 2,         # Największa stabilność finansowa\n",
        "    \"Other\": 1        # Traktujemy podobnie jak mortgage\n",
        "})"
      ],
      "metadata": {
        "id": "5b9yYZV4rI1q"
      },
      "execution_count": 7,
      "outputs": []
    },
    {
      "cell_type": "code",
      "source": [
        "df[\"person_education\"] = df[\"person_education\"].map({\n",
        "    \"High School\": 0,      # Najniższe wykształcenie i niższe zarobki\n",
        "    \"Associate\": 1,        # Średni poziom wykształcenia\n",
        "    \"Bachelor\": 2,         # Wyższe wykształcenie i większa szansa na zarobki\n",
        "    \"Other\": 1             # Traktujemy jak \"Associate\" bo nie wiemy dokładnie\n",
        "})"
      ],
      "metadata": {
        "id": "lTYrNp9Jsdr1"
      },
      "execution_count": 8,
      "outputs": []
    },
    {
      "cell_type": "code",
      "source": [
        "cechy_wazne = [\"person_income\", \"loan_amnt\", \"loan_int_rate\",\n",
        "               \"cb_person_cred_hist_length\", \"credit_score\",\n",
        "               \"previous_loan_defaults_on_file\", \"person_age\",\n",
        "               \"person_home_ownership\" ,\"loan_percent_income\",\n",
        "               \"person_education\"]\n",
        "\n",
        "#Cechy i etykiety\n",
        "X = df[cechy_wazne]\n",
        "Y = df[\"loan_status\"]\n",
        "# Sprawdzenie 5 pierwszych kolumn\n",
        "print(df.head())\n"
      ],
      "metadata": {
        "colab": {
          "base_uri": "https://localhost:8080/"
        },
        "id": "Mw6IcMUGkmSN",
        "outputId": "21dd23df-6052-45d1-e0d1-10c49e5c86d7"
      },
      "execution_count": 9,
      "outputs": [
        {
          "output_type": "stream",
          "name": "stdout",
          "text": [
            "   person_age  person_education  person_income  person_home_ownership  \\\n",
            "0        22.0               NaN        71948.0                    0.0   \n",
            "1        21.0               0.0        12282.0                    2.0   \n",
            "2        25.0               0.0        12438.0                    1.0   \n",
            "3        23.0               2.0        79753.0                    0.0   \n",
            "4        24.0               NaN        66135.0                    0.0   \n",
            "\n",
            "   loan_amnt  loan_int_rate  loan_percent_income  cb_person_cred_hist_length  \\\n",
            "0    35000.0          16.02                 0.49                         3.0   \n",
            "1     1000.0          11.14                 0.08                         2.0   \n",
            "2     5500.0          12.87                 0.44                         3.0   \n",
            "3    35000.0          15.23                 0.44                         2.0   \n",
            "4    35000.0          14.27                 0.53                         4.0   \n",
            "\n",
            "   credit_score  previous_loan_defaults_on_file  loan_status  \n",
            "0           561                               0            1  \n",
            "1           504                               1            0  \n",
            "2           635                               0            1  \n",
            "3           675                               0            1  \n",
            "4           586                               0            1  \n"
          ]
        }
      ]
    },
    {
      "cell_type": "code",
      "source": [
        "print(df[cechy_wazne].dtypes)"
      ],
      "metadata": {
        "colab": {
          "base_uri": "https://localhost:8080/"
        },
        "id": "2LHYHtcBBI2A",
        "outputId": "82c4f6bd-d1d1-4beb-fa00-30149cc6ca10"
      },
      "execution_count": 10,
      "outputs": [
        {
          "output_type": "stream",
          "name": "stdout",
          "text": [
            "person_income                     float64\n",
            "loan_amnt                         float64\n",
            "loan_int_rate                     float64\n",
            "cb_person_cred_hist_length        float64\n",
            "credit_score                        int64\n",
            "previous_loan_defaults_on_file      int64\n",
            "person_age                        float64\n",
            "person_home_ownership             float64\n",
            "loan_percent_income               float64\n",
            "person_education                  float64\n",
            "dtype: object\n"
          ]
        }
      ]
    },
    {
      "cell_type": "code",
      "source": [
        "#Sprawdzanie jakich danych brakuje\n",
        "print(df.isnull().sum())"
      ],
      "metadata": {
        "colab": {
          "base_uri": "https://localhost:8080/"
        },
        "id": "cgID1JEy3J6p",
        "outputId": "05a85d5c-6670-4843-ad5e-dc474f0bb0df"
      },
      "execution_count": 11,
      "outputs": [
        {
          "output_type": "stream",
          "name": "stdout",
          "text": [
            "person_age                           0\n",
            "person_education                  7601\n",
            "person_income                        0\n",
            "person_home_ownership              117\n",
            "loan_amnt                            0\n",
            "loan_int_rate                        0\n",
            "loan_percent_income                  0\n",
            "cb_person_cred_hist_length           0\n",
            "credit_score                         0\n",
            "previous_loan_defaults_on_file       0\n",
            "loan_status                          0\n",
            "dtype: int64\n"
          ]
        }
      ]
    },
    {
      "cell_type": "code",
      "source": [
        "print(df[\"previous_loan_defaults_on_file\"].dtype)"
      ],
      "metadata": {
        "colab": {
          "base_uri": "https://localhost:8080/"
        },
        "id": "nPXQN-p0eq-d",
        "outputId": "eea20889-3129-4f69-e6d6-20cc73617510"
      },
      "execution_count": 16,
      "outputs": [
        {
          "output_type": "stream",
          "name": "stdout",
          "text": [
            "int64\n"
          ]
        }
      ]
    },
    {
      "cell_type": "code",
      "source": [
        "print(df[[\"person_home_ownership\", \"previous_loan_defaults_on_file\", \"person_education\"]].isnull().sum())"
      ],
      "metadata": {
        "colab": {
          "base_uri": "https://localhost:8080/"
        },
        "id": "yeO5L9cxzHZ4",
        "outputId": "074d7688-2914-4ef5-dbf5-009dafd8450f"
      },
      "execution_count": 15,
      "outputs": [
        {
          "output_type": "stream",
          "name": "stdout",
          "text": [
            "person_home_ownership              117\n",
            "previous_loan_defaults_on_file       0\n",
            "person_education                  7601\n",
            "dtype: int64\n"
          ]
        }
      ]
    },
    {
      "cell_type": "code",
      "source": [
        "print(df.isnull().sum())\n",
        "# Uzupełnianie NaN najczęściej występującą wartością\n",
        "df.loc[:, \"person_home_ownership\"] = df[\"person_home_ownership\"].fillna(df[\"person_home_ownership\"].mode()[0])\n",
        "df.loc[:, \"person_education\"] = df[\"person_education\"].fillna(df[\"person_education\"].mode()[0])\n",
        "\n",
        "# Konwersja na liczby całkowite\n",
        "df[\"person_home_ownership\"] = df[\"person_home_ownership\"].astype(int)\n",
        "df[\"person_education\"] = df[\"person_education\"].astype(int)\n",
        "\n",
        "# Ostateczne sprawdzenie\n",
        "print(df.dtypes)  # Wszystkie powinny być int lub float\n",
        "print(df.isnull().sum())  # Powinno pokazać 0 dla każdej kolumny"
      ],
      "metadata": {
        "colab": {
          "base_uri": "https://localhost:8080/"
        },
        "id": "lP933IZA0Dnt",
        "outputId": "e6bc4da9-9354-4e54-b6fd-be9bf0369eb1"
      },
      "execution_count": 19,
      "outputs": [
        {
          "output_type": "stream",
          "name": "stdout",
          "text": [
            "person_age                           0\n",
            "person_education                  7601\n",
            "person_income                        0\n",
            "person_home_ownership              117\n",
            "loan_amnt                            0\n",
            "loan_int_rate                        0\n",
            "loan_percent_income                  0\n",
            "cb_person_cred_hist_length           0\n",
            "credit_score                         0\n",
            "previous_loan_defaults_on_file       0\n",
            "loan_status                          0\n",
            "dtype: int64\n",
            "person_age                        float64\n",
            "person_education                    int64\n",
            "person_income                     float64\n",
            "person_home_ownership               int64\n",
            "loan_amnt                         float64\n",
            "loan_int_rate                     float64\n",
            "loan_percent_income               float64\n",
            "cb_person_cred_hist_length        float64\n",
            "credit_score                        int64\n",
            "previous_loan_defaults_on_file      int64\n",
            "loan_status                         int64\n",
            "dtype: object\n",
            "person_age                        0\n",
            "person_education                  0\n",
            "person_income                     0\n",
            "person_home_ownership             0\n",
            "loan_amnt                         0\n",
            "loan_int_rate                     0\n",
            "loan_percent_income               0\n",
            "cb_person_cred_hist_length        0\n",
            "credit_score                      0\n",
            "previous_loan_defaults_on_file    0\n",
            "loan_status                       0\n",
            "dtype: int64\n"
          ]
        }
      ]
    },
    {
      "cell_type": "code",
      "source": [
        "print(df[\"person_home_ownership\"].unique())\n",
        "print(df[\"person_education\"].unique())"
      ],
      "metadata": {
        "colab": {
          "base_uri": "https://localhost:8080/"
        },
        "id": "s8oquWG8zypR",
        "outputId": "f0cf7912-f253-4520-ae33-61b681e94ef3"
      },
      "execution_count": 20,
      "outputs": [
        {
          "output_type": "stream",
          "name": "stdout",
          "text": [
            "[0 2 1]\n",
            "[2 0 1]\n"
          ]
        }
      ]
    },
    {
      "cell_type": "code",
      "source": [
        "print(df.dtypes)"
      ],
      "metadata": {
        "colab": {
          "base_uri": "https://localhost:8080/"
        },
        "id": "Aj7Rb4k8zjAE",
        "outputId": "3e005dc4-a5de-4fdc-f1e7-955cefa56b52"
      },
      "execution_count": 21,
      "outputs": [
        {
          "output_type": "stream",
          "name": "stdout",
          "text": [
            "person_age                        float64\n",
            "person_education                    int64\n",
            "person_income                     float64\n",
            "person_home_ownership               int64\n",
            "loan_amnt                         float64\n",
            "loan_int_rate                     float64\n",
            "loan_percent_income               float64\n",
            "cb_person_cred_hist_length        float64\n",
            "credit_score                        int64\n",
            "previous_loan_defaults_on_file      int64\n",
            "loan_status                         int64\n",
            "dtype: object\n"
          ]
        }
      ]
    },
    {
      "cell_type": "code",
      "source": [
        "# Podział na zestaw treningowy i testowy (80% trening, 20% test)\n",
        "X_train, X_test, Y_train, Y_test = train_test_split(X, Y, test_size=0.2, random_state=5)"
      ],
      "metadata": {
        "id": "v8KdeNqz6_Of"
      },
      "execution_count": 22,
      "outputs": []
    },
    {
      "cell_type": "code",
      "source": [
        "# Sprawdzanie czy zbiory są zbalansowane\n",
        "print(len(Y_train))\n",
        "print(len(X_train))\n",
        "print(len(Y_test))\n",
        "print(len(X_test))"
      ],
      "metadata": {
        "colab": {
          "base_uri": "https://localhost:8080/"
        },
        "id": "4aMcWmNAzTkg",
        "outputId": "835f457d-bc68-45bb-da21-ba628fc23bff"
      },
      "execution_count": 23,
      "outputs": [
        {
          "output_type": "stream",
          "name": "stdout",
          "text": [
            "36000\n",
            "36000\n",
            "9000\n",
            "9000\n"
          ]
        }
      ]
    },
    {
      "cell_type": "code",
      "source": [
        "# Definiowanie siatki parametrów do przetestowania\n",
        "param_grid = {\n",
        "    'max_depth': [6, 8, 10, 12],\n",
        "    'min_samples_split': [5, 10, 15],\n",
        "    'min_samples_leaf': [2, 5, 10]\n",
        "}\n",
        "\n",
        "# GridSearchCV do znalezienia najlepszych parametrów\n",
        "grid_search = GridSearchCV(DecisionTreeClassifier(random_state=5), param_grid, cv=5)\n",
        "grid_search.fit(X_train, Y_train)  # Uwaga: 'Y_train' powinno być 'y_train' zgodnie z wcześniejszym kodem\n",
        "\n",
        "# Pobieranie najlepszego zestawu hiperparametrów\n",
        "print(\"Najlepsze parametry:\", grid_search.best_params_)\n",
        "\n",
        "# Tworzenie i trenowanie na podstawie najlepszych parametrów\n",
        "best_params = grid_search.best_params_\n",
        "model = DecisionTreeClassifier(\n",
        "    max_depth=best_params[\"max_depth\"],\n",
        "    min_samples_split=best_params[\"min_samples_split\"],\n",
        "    min_samples_leaf=best_params[\"min_samples_leaf\"],\n",
        "    random_state=5\n",
        ")\n",
        "\n",
        "# Ponowne trenowanie modelu\n",
        "model.fit(X_train, Y_train)\n",
        "\n",
        "# Dokładność modelu\n",
        "y_pred = model.predict(X_test)\n",
        "accuracy = accuracy_score(Y_test, y_pred)\n",
        "print(f\"Dokładność modelu po tuningu: {accuracy:.4f}\")"
      ],
      "metadata": {
        "colab": {
          "base_uri": "https://localhost:8080/"
        },
        "id": "jBMUQLTl3X2w",
        "outputId": "c3673b8f-f4e7-4fa2-f7f4-8685d8ca18bb"
      },
      "execution_count": 24,
      "outputs": [
        {
          "output_type": "stream",
          "name": "stdout",
          "text": [
            "Najlepsze parametry: {'max_depth': 10, 'min_samples_leaf': 2, 'min_samples_split': 15}\n",
            "Dokładność modelu po tuningu: 0.9142\n"
          ]
        }
      ]
    },
    {
      "cell_type": "code",
      "source": [
        "#Sprawdzamy czy nie ma przeuczenia:\n",
        "# Predykcja na zbiorze treningowym\n",
        "y_train_pred = model.predict(X_train)\n",
        "train_acc = accuracy_score(Y_train, y_train_pred)\n",
        "\n",
        "# Predykcja na zbiorze testowym\n",
        "y_test_pred = model.predict(X_test)\n",
        "test_acc = accuracy_score(Y_test, y_test_pred)\n",
        "\n",
        "print(f\" Dokładność na zbiorze treningowym: {train_acc:.4f}\")\n",
        "print(f\" Dokładność na zbiorze testowym: {test_acc:.4f}\")"
      ],
      "metadata": {
        "colab": {
          "base_uri": "https://localhost:8080/"
        },
        "id": "AXUe4x5Cmtik",
        "outputId": "1442d870-3d07-4f60-903e-2da41f6a3284"
      },
      "execution_count": 25,
      "outputs": [
        {
          "output_type": "stream",
          "name": "stdout",
          "text": [
            " Dokładność na zbiorze treningowym: 0.9262\n",
            " Dokładność na zbiorze testowym: 0.9142\n"
          ]
        }
      ]
    },
    {
      "cell_type": "code",
      "source": [
        "# Ważność cech\n",
        "feature_importance = pd.Series(model.feature_importances_, index=X_train.columns)\n",
        "feature_importance.sort_values(ascending=False).plot(kind='bar', figsize=(10,5))\n",
        "plt.title(\"Ważność cech dla modelu\")\n",
        "plt.show()"
      ],
      "metadata": {
        "id": "rqOGZ6K-5zWm",
        "colab": {
          "base_uri": "https://localhost:8080/",
          "height": 665
        },
        "outputId": "e8e96468-2e64-43b5-8b9d-4f9704bacdff"
      },
      "execution_count": 26,
      "outputs": [
        {
          "output_type": "display_data",
          "data": {
            "text/plain": [
              "<Figure size 1000x500 with 1 Axes>"
            ],
            "image/png": "[encoded data removed]"
          },
          "metadata": {}
        }
      ]
    },
    {
      "cell_type": "code",
      "source": [
        "# Ważność cech w procentach\n",
        "feature_importance = pd.Series(model.feature_importances_, index=X_train.columns)\n",
        "feature_importance = feature_importance.sort_values(ascending=False) * 100  # Zamiana na procenty\n",
        "\n",
        "# Wyświetlanie\n",
        "print(\"Ważność cech dla modelu (%):\")\n",
        "print(feature_importance.to_string(float_format=\"%.2f\"))"
      ],
      "metadata": {
        "colab": {
          "base_uri": "https://localhost:8080/"
        },
        "id": "lx3tQj1O1QvH",
        "outputId": "564e7862-f3a6-4e68-ed75-2bb16611b8dc"
      },
      "execution_count": 27,
      "outputs": [
        {
          "output_type": "stream",
          "name": "stdout",
          "text": [
            "Ważność cech dla modelu (%):\n",
            "previous_loan_defaults_on_file   42.20\n",
            "loan_percent_income              19.37\n",
            "loan_int_rate                    18.36\n",
            "person_income                    10.40\n",
            "person_home_ownership             6.23\n",
            "credit_score                      2.37\n",
            "loan_amnt                         0.41\n",
            "cb_person_cred_hist_length        0.32\n",
            "person_age                        0.30\n",
            "person_education                  0.04\n"
          ]
        }
      ]
    }
  ]
}